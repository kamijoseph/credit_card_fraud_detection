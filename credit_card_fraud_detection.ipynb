{
 "cells": [
  {
   "cell_type": "markdown",
   "id": "88bcced1-d2aa-4d9f-963a-0c1254ed67ab",
   "metadata": {},
   "source": [
    "# Credit Car Fraud Detection Model"
   ]
  },
  {
   "cell_type": "code",
   "execution_count": 5,
   "id": "7f3429f1-86a2-448b-ae77-d07de8e3c663",
   "metadata": {},
   "outputs": [],
   "source": [
    "import numpy as np\n",
    "import pandas as pd\n",
    "import matplotlib.pyplot as plt\n",
    "from sklearn.model_selection import train_test_split\n",
    "from sklearn import metrics\n",
    "import seaborn as sns"
   ]
  },
  {
   "cell_type": "code",
   "execution_count": null,
   "id": "29f49519-cdf9-49b5-8e6c-b0260ddbf13f",
   "metadata": {},
   "outputs": [],
   "source": []
  }
 ],
 "metadata": {
  "kernelspec": {
   "display_name": "Python 3 (ipykernel)",
   "language": "python",
   "name": "python3"
  },
  "language_info": {
   "codemirror_mode": {
    "name": "ipython",
    "version": 3
   },
   "file_extension": ".py",
   "mimetype": "text/x-python",
   "name": "python",
   "nbconvert_exporter": "python",
   "pygments_lexer": "ipython3",
   "version": "3.12.7"
  }
 },
 "nbformat": 4,
 "nbformat_minor": 5
}
